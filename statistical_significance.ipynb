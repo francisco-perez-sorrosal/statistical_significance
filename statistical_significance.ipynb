{
 "cells": [
  {
   "cell_type": "markdown",
   "metadata": {},
   "source": [
    "# Statistical Significance"
   ]
  },
  {
   "cell_type": "code",
   "execution_count": 1,
   "metadata": {},
   "outputs": [],
   "source": [
    "import math\n",
    "import scipy.stats as st"
   ]
  },
  {
   "cell_type": "markdown",
   "metadata": {},
   "source": [
    "# Problem Definition\n",
    "\n",
    "As the dean Univ. X receives a report showing that students at that Univ. get an average of 6.80 hours of sleep per night compared to the national college average of 7.02 hours. Has the dean to worry about the report? i.e. Is the study statistically significant?\n",
    "\n",
    "1. Alternative hypotesis: The average amount of sleep (6.90 hours) by students at Univ. X is below the national average for college students (7.02 hours).\n",
    "\n",
    "2. Null hypotesis: The average amount of sleep by students at Univ. X is NOT below the national average for college students.\n",
    "\n",
    "3. Other data:\n",
    "\n",
    "    3.1 Standard deviation Univ X -> 0.84\n",
    "\n",
    "    3.2 Sample size Univ X -> 202\n",
    "\n",
    "\n",
    "Alpha or reference p-value: 0.05\n",
    "\n",
    "* Adapted form https://towardsdatascience.com/statistical-significance-hypothesis-testing-the-normal-curve-and-p-values-93274fa32687"
   ]
  },
  {
   "cell_type": "code",
   "execution_count": 2,
   "metadata": {},
   "outputs": [],
   "source": [
    "college_mean_sleep_hours = 7.02\n",
    "univ_x_mean_sleep_hours = 6.90\n",
    "std = 0.84\n",
    "sample_size = 202\n",
    "\n",
    "alpha = 0.05"
   ]
  },
  {
   "cell_type": "code",
   "execution_count": 3,
   "metadata": {},
   "outputs": [],
   "source": [
    "z_score = (univ_x_mean_sleep_hours - college_mean_sleep_hours)/(std/math.sqrt(sample_size))"
   ]
  },
  {
   "cell_type": "code",
   "execution_count": 4,
   "metadata": {},
   "outputs": [
    {
     "data": {
      "text/plain": [
       "-2.0303814862216862"
      ]
     },
     "execution_count": 4,
     "metadata": {},
     "output_type": "execute_result"
    }
   ],
   "source": [
    "z_score"
   ]
  },
  {
   "cell_type": "code",
   "execution_count": 5,
   "metadata": {},
   "outputs": [],
   "source": [
    "p_value = st.norm.cdf(z_score)"
   ]
  },
  {
   "cell_type": "code",
   "execution_count": 6,
   "metadata": {},
   "outputs": [
    {
     "data": {
      "text/plain": [
       "0.021158888530490534"
      ]
     },
     "execution_count": 6,
     "metadata": {},
     "output_type": "execute_result"
    }
   ],
   "source": [
    "p_value"
   ]
  },
  {
   "cell_type": "markdown",
   "metadata": {},
   "source": [
    "As the p-value obtained (0.021) is less than the reference p-value chosen (0.05) we can reject the null hypotesis.\n",
    "\n",
    "This means that there's a 2.1% chance that the results of the study occurred because of random noise.\n",
    "\n",
    "There's then a correlation between students at Univ. X. and less average sleep, but NOT causation! So with that study nobody can argue that going to Univ. X causes a decrease of sleep."
   ]
  },
  {
   "cell_type": "markdown",
   "metadata": {},
   "source": [
    "# Experiments Varying Input Data (Std and Samples)"
   ]
  },
  {
   "cell_type": "code",
   "execution_count": 7,
   "metadata": {},
   "outputs": [],
   "source": [
    "college_mean_sleep_hours = [7.02, 7.02, 7.02, 7.02, 7.02, 7.02, 7.02, 7.02]\n",
    "univ_x_mean_sleep_hours = [6.90, 6.90, 6.90, 6.90, 6.90, 6.90, 6.90, 6.90]\n",
    "std = [0.84, 0.84, 1., 1., 1.05, 1.05, 2., 2., ]\n",
    "sample_size = [202, 2020, 202, 2020, 202, 2020, 202, 2020]\n",
    "\n",
    "n_of_experiments = len(college_mean_sleep_hours)"
   ]
  },
  {
   "cell_type": "code",
   "execution_count": 8,
   "metadata": {},
   "outputs": [
    {
     "name": "stdout",
     "output_type": "stream",
     "text": [
      "========= Exp 0 =========\n",
      "The p-value is 0.021158888530490534 for a z-score of -2.0303814862216862\n",
      "Can we reject the null hypotesis? Yes\n",
      "========= Exp 1 =========\n",
      "The p-value is 6.785575208355853e-11 for a z-score of -6.42063001549831\n",
      "Can we reject the null hypotesis? Yes\n",
      "========= Exp 2 =========\n",
      "The p-value is 0.04404870094441166 for a z-score of -1.7055204484262165\n",
      "Can we reject the null hypotesis? Yes\n",
      "========= Exp 3 =========\n",
      "The p-value is 3.4582031853739905e-08 for a z-score of -5.393329213018581\n",
      "Can we reject the null hypotesis? Yes\n",
      "========= Exp 4 =========\n",
      "The p-value is 0.05215534517706249 for a z-score of -1.6243051889773488\n",
      "Can we reject the null hypotesis? No\n",
      "========= Exp 5 =========\n",
      "The p-value is 1.3994818872331327e-07 for a z-score of -5.136504012398647\n",
      "Can we reject the null hypotesis? Yes\n",
      "========= Exp 6 =========\n",
      "The p-value is 0.19689614289492519 for a z-score of -0.8527602242131083\n",
      "Can we reject the null hypotesis? No\n",
      "========= Exp 7 =========\n",
      "The p-value is 0.003501888634477499 for a z-score of -2.6966646065092905\n",
      "Can we reject the null hypotesis? Yes\n"
     ]
    }
   ],
   "source": [
    "for exp_i in range(n_of_experiments):\n",
    "    print(\"========= Exp {} =========\".format(exp_i))\n",
    "    z_score = (univ_x_mean_sleep_hours[exp_i] - college_mean_sleep_hours[exp_i])/(std[exp_i]/math.sqrt(sample_size[exp_i]))\n",
    "    p_value = st.norm.cdf(z_score)\n",
    "    print(\"The p-value is {} for a z-score of {}\".format(p_value, z_score))\n",
    "    print(\"Can we reject the null hypotesis? {}\".format(\"Yes\" if p_value < alpha else \"No\"))"
   ]
  }
 ],
 "metadata": {
  "kernelspec": {
   "display_name": "exp-python3",
   "language": "python",
   "name": "exp-python3"
  },
  "language_info": {
   "codemirror_mode": {
    "name": "ipython",
    "version": 3
   },
   "file_extension": ".py",
   "mimetype": "text/x-python",
   "name": "python",
   "nbconvert_exporter": "python",
   "pygments_lexer": "ipython3",
   "version": "3.6.0"
  }
 },
 "nbformat": 4,
 "nbformat_minor": 2
}
